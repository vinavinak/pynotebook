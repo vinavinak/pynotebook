{
  "nbformat": 4,
  "nbformat_minor": 0,
  "metadata": {
    "colab": {
      "name": "Untitled0.ipynb",
      "provenance": [],
      "toc_visible": true,
      "authorship_tag": "ABX9TyNnR8l4tHSa3QdXIz5UlaSK",
      "include_colab_link": true
    },
    "kernelspec": {
      "name": "python3",
      "display_name": "Python 3"
    },
    "language_info": {
      "name": "python"
    }
  },
  "cells": [
    {
      "cell_type": "markdown",
      "metadata": {
        "id": "view-in-github",
        "colab_type": "text"
      },
      "source": [
        "<a href=\"https://colab.research.google.com/github/vinavinak/vinavinak.github.io/blob/main/Untitled0.ipynb\" target=\"_parent\"><img src=\"https://colab.research.google.com/assets/colab-badge.svg\" alt=\"Open In Colab\"/></a>"
      ]
    },
    {
      "cell_type": "code",
      "metadata": {
        "id": "_YkvEst4dBRN"
      },
      "source": [
        "import requests\n",
        "import codecs\n",
        "r1 = requests.get (\"https://www.twse.com.tw/zh/\")\n",
        "# print(r1)\n",
        "# print(r1.encoding)\n",
        "# print(r1.text)\n",
        "\n",
        "with codecs.open(\"/content/drive/MyDrive/ai/1.html\",\"w\",r1.encoding)  as  f:\n",
        "    f.write(r1.text)"
      ],
      "execution_count": null,
      "outputs": []
    },
    {
      "cell_type": "code",
      "metadata": {
        "id": "lXZgFJM0K0ls"
      },
      "source": [
        ""
      ],
      "execution_count": null,
      "outputs": []
    },
    {
      "cell_type": "code",
      "metadata": {
        "colab": {
          "base_uri": "https://localhost:8080/",
          "height": 34
        },
        "id": "MaXvpPZBsCI8",
        "outputId": "b008038e-a344-4a41-f691-8d8fa97b3bea"
      },
      "source": [
        "from google.colab import files\n",
        "files.download(\"1.html\")"
      ],
      "execution_count": null,
      "outputs": [
        {
          "output_type": "display_data",
          "data": {
            "application/javascript": [
              "\n",
              "    async function download(id, filename, size) {\n",
              "      if (!google.colab.kernel.accessAllowed) {\n",
              "        return;\n",
              "      }\n",
              "      const div = document.createElement('div');\n",
              "      const label = document.createElement('label');\n",
              "      label.textContent = `Downloading \"${filename}\": `;\n",
              "      div.appendChild(label);\n",
              "      const progress = document.createElement('progress');\n",
              "      progress.max = size;\n",
              "      div.appendChild(progress);\n",
              "      document.body.appendChild(div);\n",
              "\n",
              "      const buffers = [];\n",
              "      let downloaded = 0;\n",
              "\n",
              "      const channel = await google.colab.kernel.comms.open(id);\n",
              "      // Send a message to notify the kernel that we're ready.\n",
              "      channel.send({})\n",
              "\n",
              "      for await (const message of channel.messages) {\n",
              "        // Send a message to notify the kernel that we're ready.\n",
              "        channel.send({})\n",
              "        if (message.buffers) {\n",
              "          for (const buffer of message.buffers) {\n",
              "            buffers.push(buffer);\n",
              "            downloaded += buffer.byteLength;\n",
              "            progress.value = downloaded;\n",
              "          }\n",
              "        }\n",
              "      }\n",
              "      const blob = new Blob(buffers, {type: 'application/binary'});\n",
              "      const a = document.createElement('a');\n",
              "      a.href = window.URL.createObjectURL(blob);\n",
              "      a.download = filename;\n",
              "      div.appendChild(a);\n",
              "      a.click();\n",
              "      div.remove();\n",
              "    }\n",
              "  "
            ],
            "text/plain": [
              "<IPython.core.display.Javascript object>"
            ]
          },
          "metadata": {}
        },
        {
          "output_type": "display_data",
          "data": {
            "application/javascript": [
              "download(\"download_bf74bbf2-f90f-481f-9a66-a6ebf88e57e7\", \"1.html\", 95046)"
            ],
            "text/plain": [
              "<IPython.core.display.Javascript object>"
            ]
          },
          "metadata": {}
        }
      ]
    },
    {
      "cell_type": "code",
      "metadata": {
        "colab": {
          "base_uri": "https://localhost:8080/"
        },
        "id": "zKMhF_tksjz0",
        "outputId": "d8d488da-d197-4920-8649-37a9a854abe9"
      },
      "source": [
        "from google.colab import  drive\n",
        "drive.mount(\"/content/drive\")"
      ],
      "execution_count": null,
      "outputs": [
        {
          "output_type": "stream",
          "name": "stdout",
          "text": [
            "Drive already mounted at /content/drive; to attempt to forcibly remount, call drive.mount(\"/content/drive\", force_remount=True).\n"
          ]
        }
      ]
    },
    {
      "cell_type": "code",
      "metadata": {
        "id": "IJSEOlflt_lT",
        "colab": {
          "base_uri": "https://localhost:8080/"
        },
        "outputId": "eaaa7919-0491-4057-82a3-3a6a415aa7d0"
      },
      "source": [
        "!ls /content/drive/MyDrive/ai"
      ],
      "execution_count": null,
      "outputs": [
        {
          "output_type": "stream",
          "name": "stdout",
          "text": [
            "1.html\n"
          ]
        }
      ]
    },
    {
      "cell_type": "code",
      "metadata": {
        "id": "WBv8YB0-K2v6"
      },
      "source": [
        "import requests\n",
        "import codecs\n",
        "r1 = requests.get (\n",
        "    \"http://teaching.bo-yuan.net/\",\n",
        "    params={\n",
        "        \"uid\":\"615d38eed28aa\",\n",
        "        \"id\":\"5f81d9e038e6b_ex\"\n",
        "       \n",
        "    },\n",
        "    headers={\n",
        "        \"User-Agent\":\"Mozilla/5.0 (Macintosh; Intel Mac OS X 10_13_6) AppleWebKit/537.36 (KHTML, like Gecko) Chrome/94.0.4606.71 Safari/537.36\",\n",
        "        \"Cookie\":\"PHPSESSID=5endm3nb2hgg6ro4a8jooni857\"\n",
        "        \n",
        "    }\n",
        ")\n",
        "\n",
        "with codecs.open(\"/content/drive/MyDrive/ai/1.pdf\",\"wb\")  as  f:\n",
        "    f.write(r1.content)"
      ],
      "execution_count": null,
      "outputs": []
    },
    {
      "cell_type": "code",
      "metadata": {
        "id": "mmdBWizkVzdi"
      },
      "source": [
        "import requests\n",
        "import codecs\n",
        "r1 = requests.get (\n",
        "    \"http://teaching.bo-yuan.net/\",\n",
        "    params={\n",
        "        \"uid\":\"615d38eed28aa\",\n",
        "        \"id\":\"5e81faa6afa30_ex\"\n",
        "    \n",
        "    },\n",
        "    headers={\n",
        "        \"User-Agent\":\"Mozilla/5.0 (Macintosh; Intel Mac OS X 10_13_6) AppleWebKit/537.36 (KHTML, like Gecko) Chrome/94.0.4606.71 Safari/537.36\",\n",
        "        \"Cookie\":\"PHPSESSID=5endm3nb2hgg6ro4a8jooni857\"\n",
        "        \n",
        "    }\n",
        ")\n",
        "\n",
        "with codecs.open(\"/content/drive/MyDrive/ai/2.pdf\",\"wb\")  as  f:\n",
        "    f.write(r1.content)"
      ],
      "execution_count": null,
      "outputs": []
    },
    {
      "cell_type": "code",
      "metadata": {
        "id": "WkKcqpX6epeA"
      },
      "source": [
        "import requests\n",
        "import codecs\n",
        "r1=requests.post(\n",
        "  \"http://teaching.bo-yuan.net/\",\n",
        "  params={\n",
        "     \"uid\":\"615d38919412f\"\n",
        "  },\n",
        "  headers={\n",
        "    \"Cookie\":\"PHPSESSID=5endm3nb2hgg6ro4a8jooni857\",\n",
        "    \"User-Agent\":\"Mozilla/5.0 (Windows NT 10.0; Win64; x64; rv:93.0) Gecko/20100101 Firefox/93.0\"\n",
        "  },\n",
        "  data={\n",
        "    \"ex[class]\":\"6152b2f312151\",\n",
        "    \"ex[username]\":\"08國方香那\",\n",
        "    \"ex[password]\":\"31b7ca\"\n",
        "  }\n",
        ")"
      ],
      "execution_count": null,
      "outputs": []
    },
    {
      "cell_type": "code",
      "metadata": {
        "colab": {
          "base_uri": "https://localhost:8080/"
        },
        "id": "x1t7kQnELcYM",
        "outputId": "934d64e4-ad49-45a9-f549-e758f53b2bcd"
      },
      "source": [
        "import requests\n",
        "import codecs \n",
        "r1 = requests.head (\"http://teaching.bo-yuan.net/test/requests/\",\n",
        "  params={\n",
        "     \"uid\":\"615d38919412f\"\n",
        "  },\n",
        "  headers={\n",
        "    \"Cookie\":\"PHPSESSID=5endm3nb2hgg6ro4a8jooni857\",\n",
        "    \"User-Agent\":\"Mozilla/5.0 (Macintosh; Intel Mac OS X 10_13_6) AppleWebKit/537.36 (KHTML, like Gecko) Chrome/94.0.4606.71 Safari/537.36\"\n",
        "  }\n",
        ")            \n",
        "print(r1.headers)"
      ],
      "execution_count": 9,
      "outputs": [
        {
          "output_type": "stream",
          "name": "stdout",
          "text": [
            "{'Date': 'Wed, 06 Oct 2021 15:18:28 GMT', 'Server': 'Apache/2.2.22 (Win32) PHP/5.2.6', 'X-Powered-By': 'PHP/5.2.6', 'Keep-Alive': 'timeout=5, max=100', 'Connection': 'Keep-Alive', 'Content-Type': 'text/html'}\n"
          ]
        }
      ]
    },
    {
      "cell_type": "code",
      "metadata": {
        "colab": {
          "base_uri": "https://localhost:8080/"
        },
        "id": "65F_-SABL-eu",
        "outputId": "5571a286-5277-4afc-ccc6-a0e632f30449"
      },
      "source": [
        "import requests\n",
        "import codecs \n",
        "r1 = requests.get (\"http://teaching.bo-yuan.net/test/requests/\", \n",
        "   params={\"action\":\"get\",\n",
        "  },\n",
        "  headers={\n",
        "    \"Cookie\":\"PHPSESSID=5endm3nb2hgg6ro4a8jooni857\",\n",
        "    \"User-Agent\":\"Mozilla/5.0 (Macintosh; Intel Mac OS X 10_13_6) AppleWebKit/537.36 (KHTML, like Gecko) Chrome/94.0.4606.71 Safari/537.36\",\n",
        "  }\n",
        ")   \n",
        "r1.encoding = \"utf-8\"         \n",
        "print(r1.text)\n",
        "\n",
        "import requests\n",
        "import codecs \n",
        "r1 = requests.delete (\"http://teaching.bo-yuan.net/test/requests/\", data={\"id\":\"a\"},\n",
        "      params={\"action\":\"get\",\n",
        "  },\n",
        "  headers={\n",
        "    \"Cookie\":\"PHPSESSID=5endm3nb2hgg6ro4a8jooni857\",\n",
        "    \"User-Agent\":\"Mozilla/5.0 (Macintosh; Intel Mac OS X 10_13_6) AppleWebKit/537.36 (KHTML, like Gecko) Chrome/94.0.4606.71 Safari/537.36\"\n",
        "  }\n",
        ") \n",
        "r1.encoding = \"utf-8\"               \n",
        "print(r1.text)\n",
        "import requests\n",
        "import codecs \n",
        "r1 = requests.put(\"http://teaching.bo-yuan.net/test/requests/\", data={\"id\":\"x\",\"name\":\"y\"},\n",
        "      params={\"action\":\"get\",\n",
        "  },\n",
        "  headers={\n",
        "    \"Cookie\":\"PHPSESSID=5endm3nb2hgg6ro4a8jooni857\",\n",
        "    \"User-Agent\":\"Mozilla/5.0 (Macintosh; Intel Mac OS X 10_13_6) AppleWebKit/537.36 (KHTML, like Gecko) Chrome/94.0.4606.71 Safari/537.36\"\n",
        "  }\n",
        ")\n",
        "r1.encoding = \"utf-8\"                 \n",
        "print(r1.text)\n",
        "import requests\n",
        "import codecs \n",
        "r1 = requests.patch(\"http://teaching.bo-yuan.net/test/requests/\", data={\"id\":\"x\",\"name\":\"y\",\"address\":\"z\"},\n",
        "      params={\"action\":\"get\",\n",
        "  },\n",
        "  headers={\n",
        "    \"Cookie\":\"PHPSESSID=5endm3nb2hgg6ro4a8jooni857\",\n",
        "    \"User-Agent\":\"Mozilla/5.0 (Macintosh; Intel Mac OS X 10_13_6) AppleWebKit/537.36 (KHTML, like Gecko) Chrome/94.0.4606.71 Safari/537.36\"\n",
        "  }\n",
        ")\n",
        "r1.encoding = \"utf-8\"                 \n",
        "print(r1.text)\n",
        "import requests\n",
        "import codecs \n",
        "r1 = requests.post(\"http://teaching.bo-yuan.net/test/requests/\", data={\"id\":\"x\",\"name\":\"y\",\"address\":\"z\"},\n",
        "      params={\"action\":\"get\",\n",
        "  },\n",
        "  headers={\n",
        "    \"Cookie\":\"PHPSESSID=5endm3nb2hgg6ro4a8jooni857\",\n",
        "    \"User-Agent\":\"Mozilla/5.0 (Macintosh; Intel Mac OS X 10_13_6) AppleWebKit/537.36 (KHTML, like Gecko) Chrome/94.0.4606.71 Safari/537.36\"\n",
        "  }\n",
        ")\n",
        "r1.encoding = \"utf-8\"                 \n",
        "print(r1.text)"
      ],
      "execution_count": 121,
      "outputs": [
        {
          "output_type": "stream",
          "name": "stdout",
          "text": [
            "需要DELETE的操作。\n",
            "記得去PUT操作。\n",
            "PUT完了，也要PATCH資料。\n",
            "最後POST一筆資料吧。\n",
            "哈哈，答對了，請把操作過程中的所有指令保留在程式碼中，將檔案繳交上來。\n"
          ]
        }
      ]
    },
    {
      "cell_type": "code",
      "metadata": {
        "colab": {
          "base_uri": "https://localhost:8080/"
        },
        "id": "9Zn-__KfY0bh",
        "outputId": "b451e9a6-8210-4a79-f550-c2335c8ae037"
      },
      "source": [
        "import requests\n",
        "import codecs \n",
        "r1 = requests.delete (\"http://teaching.bo-yuan.net/test/requests/\", data={\"id\":\"a\"},\n",
        "      params={\"action\":\"get\",\n",
        "  },\n",
        "  headers={\n",
        "    \"Cookie\":\"PHPSESSID=5endm3nb2hgg6ro4a8jooni857\",\n",
        "    \"User-Agent\":\"Mozilla/5.0 (Macintosh; Intel Mac OS X 10_13_6) AppleWebKit/537.36 (KHTML, like Gecko) Chrome/94.0.4606.71 Safari/537.36\"\n",
        "  }\n",
        ") \n",
        "r1.encoding = \"utf-8\"               \n",
        "print(r1.text)"
      ],
      "execution_count": 69,
      "outputs": [
        {
          "output_type": "stream",
          "name": "stdout",
          "text": [
            "記得去PUT操作。\n"
          ]
        }
      ]
    },
    {
      "cell_type": "code",
      "metadata": {
        "colab": {
          "base_uri": "https://localhost:8080/"
        },
        "id": "e_aXBdesP3SI",
        "outputId": "55b52b69-9e16-424b-b46f-6fe936dbf527"
      },
      "source": [
        "import requests\n",
        "import codecs \n",
        "r1 = requests.put(\"http://teaching.bo-yuan.net/test/requests/\", data={\"id\":\"x\",\"name\":\"y\"},\n",
        "      params={\"action\":\"get\",\n",
        "  },\n",
        "  headers={\n",
        "    \"Cookie\":\"PHPSESSID=5endm3nb2hgg6ro4a8jooni857\",\n",
        "    \"User-Agent\":\"Mozilla/5.0 (Macintosh; Intel Mac OS X 10_13_6) AppleWebKit/537.36 (KHTML, like Gecko) Chrome/94.0.4606.71 Safari/537.36\"\n",
        "  }\n",
        ")\n",
        "r1.encoding = \"utf-8\"                 \n",
        "print(r1.text)\n"
      ],
      "execution_count": 116,
      "outputs": [
        {
          "output_type": "stream",
          "name": "stdout",
          "text": [
            "PUT完了，也要PATCH資料。\n"
          ]
        }
      ]
    },
    {
      "cell_type": "code",
      "metadata": {
        "colab": {
          "base_uri": "https://localhost:8080/"
        },
        "id": "BCXIDydsYyfI",
        "outputId": "04f8e067-33c6-4404-9841-a8899d5923a8"
      },
      "source": [
        "import requests\n",
        "import codecs \n",
        "r1 = requests.patch(\"http://teaching.bo-yuan.net/test/requests/\", data={\"id\":\"x\",\"name\":\"y\",\"address\":\"z\"},\n",
        "      params={\"action\":\"get\",\n",
        "  },\n",
        "  headers={\n",
        "    \"Cookie\":\"PHPSESSID=5endm3nb2hgg6ro4a8jooni857\",\n",
        "    \"User-Agent\":\"Mozilla/5.0 (Macintosh; Intel Mac OS X 10_13_6) AppleWebKit/537.36 (KHTML, like Gecko) Chrome/94.0.4606.71 Safari/537.36\"\n",
        "  }\n",
        ")\n",
        "r1.encoding = \"utf-8\"                 \n",
        "print(r1.text)"
      ],
      "execution_count": 120,
      "outputs": [
        {
          "output_type": "stream",
          "name": "stdout",
          "text": [
            "最後POST一筆資料吧。\n"
          ]
        }
      ]
    },
    {
      "cell_type": "code",
      "metadata": {
        "colab": {
          "base_uri": "https://localhost:8080/"
        },
        "id": "tNVQfAMjMa7v",
        "outputId": "eab17e2f-3b81-477a-a903-33ac7ec91a6c"
      },
      "source": [
        "import requests\n",
        "import codecs \n",
        "r1 = requests.post(\"http://teaching.bo-yuan.net/test/requests/\", data={\"id\":\"x\",\"name\":\"y\",\"address\":\"z\"},\n",
        "      params={\"action\":\"get\",\n",
        "  },\n",
        "  headers={\n",
        "    \"Cookie\":\"PHPSESSID=5endm3nb2hgg6ro4a8jooni857\",\n",
        "    \"User-Agent\":\"Mozilla/5.0 (Macintosh; Intel Mac OS X 10_13_6) AppleWebKit/537.36 (KHTML, like Gecko) Chrome/94.0.4606.71 Safari/537.36\"\n",
        "  }\n",
        ")\n",
        "r1.encoding = \"utf-8\"                 \n",
        "print(r1.text)"
      ],
      "execution_count": 119,
      "outputs": [
        {
          "output_type": "stream",
          "name": "stdout",
          "text": [
            "哈哈，答對了，請把操作過程中的所有指令保留在程式碼中，將檔案繳交上來。\n"
          ]
        }
      ]
    },
    {
      "cell_type": "code",
      "metadata": {
        "colab": {
          "base_uri": "https://localhost:8080/"
        },
        "id": "5U_x5NYy43Fr",
        "outputId": "f9ae1886-d832-4bd3-ad6e-506d02c216af"
      },
      "source": [
        "\n",
        "\n"
      ],
      "execution_count": 63,
      "outputs": [
        {
          "output_type": "stream",
          "name": "stdout",
          "text": [
            "\n"
          ]
        }
      ]
    },
    {
      "cell_type": "code",
      "metadata": {
        "id": "WMR50ICmLCQG"
      },
      "source": [
        ""
      ],
      "execution_count": 119,
      "outputs": []
    },
    {
      "cell_type": "code",
      "metadata": {
        "id": "Ipond2DoLCaS"
      },
      "source": [
        ""
      ],
      "execution_count": null,
      "outputs": []
    }
  ]
}